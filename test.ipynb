{
 "cells": [
  {
   "cell_type": "code",
   "execution_count": 133,
   "metadata": {
    "collapsed": true
   },
   "outputs": [
    {
     "name": "stdout",
     "output_type": "stream",
     "text": [
      "no\n"
     ]
    }
   ],
   "source": [
    "import os\n",
    "\n",
    "dr = r\"/Users/mae/.local/lib/python3.9/site-packages/ToolsPackage_mae/dir_file.py\"\n",
    "if os.path.isdir(dr):\n",
    "    print(\"yes\")\n",
    "else:\n",
    "    print(\"no\")"
   ]
  },
  {
   "cell_type": "code",
   "execution_count": 134,
   "outputs": [],
   "source": [
    "import os\n",
    "\n",
    "dirPath = r\"/Users/mae/.local/lib/python3.9/site-packages/ToolsPackage_mae\"\n",
    "# hideFiles = True\n",
    "hideFiles = False\n",
    "result_list = []\n",
    "if hideFiles:\n",
    "    result_list = os.listdir(dirPath)\n",
    "else:\n",
    "    ls = os.listdir(dirPath)\n",
    "    for i in ls:\n",
    "        if not i.startswith(\".\", 0, 1) and (not i.startswith(\"__\", 0, 2) and not i.endswith(\"__\", -2)):\n",
    "            result_list.append(i)\n"
   ],
   "metadata": {
    "collapsed": false
   }
  },
  {
   "cell_type": "markdown",
   "source": [
    "### 关于 *args 参数"
   ],
   "metadata": {
    "collapsed": false
   }
  },
  {
   "cell_type": "code",
   "execution_count": 135,
   "outputs": [
    {
     "name": "stdout",
     "output_type": "stream",
     "text": [
      "2 (('a', 'b', 'c'), ('1', '2', '3'))\n"
     ]
    },
    {
     "data": {
      "text/plain": "['abc', '123']"
     },
     "execution_count": 135,
     "metadata": {},
     "output_type": "execute_result"
    }
   ],
   "source": [
    "def joinDirFilenameSuffix(*args):\n",
    "    all_path = []\n",
    "    if isinstance(args, tuple) and isinstance(args[0], str):\n",
    "        print(\"1\", args)\n",
    "        a, b , c = args\n",
    "        aaa = a + b + c\n",
    "        all_path.append(aaa)\n",
    "    elif isinstance(args, tuple) and isinstance(args[0], tuple):\n",
    "        print(\"2\", args)\n",
    "        for i in args:\n",
    "            aaa = i[0] + i[1] + i[2]\n",
    "            all_path.append(aaa)\n",
    "    return all_path\n",
    "\n",
    "Args1 = (\"a\", \"b\", \"c\")\n",
    "Args2 = ((\"a\", \"b\", \"c\"),(\"1\", \"2\", \"3\"))\n",
    "# print(*Args1)\n",
    "# x, y = Args1\n",
    "# print(x, y)\n",
    "# print(\"\\n\")\n",
    "\n",
    "\n",
    "# joinDirFilenameSuffix(Args1)\n",
    "# joinDirFilenameSuffix(*Args1)\n",
    "joinDirFilenameSuffix(*Args2)"
   ],
   "metadata": {
    "collapsed": false
   }
  },
  {
   "cell_type": "code",
   "execution_count": 139,
   "outputs": [
    {
     "name": "stdout",
     "output_type": "stream",
     "text": [
      "('11',)\n",
      "('12', 'abc', '什么')\n",
      "(('12', '26', '87'),)\n"
     ]
    }
   ],
   "source": [
    "a = \"11\"\n",
    "b = (\"12\", \"26\", \"87\")\n",
    "\n",
    "def aaa(*Args):\n",
    "    print(Args)\n",
    "\n",
    "aaa(a)\n",
    "aaa(\"12\", \"abc\", \"什么\")\n",
    "aaa(b)"
   ],
   "metadata": {
    "collapsed": false
   }
  },
  {
   "cell_type": "code",
   "execution_count": 142,
   "outputs": [
    {
     "name": "stdout",
     "output_type": "stream",
     "text": [
      "['.txt', '.jpg', '.json', '.png']\n",
      "['.txt', '.jpg', '.json', '.png']\n"
     ]
    }
   ],
   "source": [
    "def mergeDotAndSuffix(*args):\n",
    "    \"\"\"合并 给后缀加点\"\"\"\n",
    "    all_path = []\n",
    "    if isinstance(args, str):\n",
    "        result = \".{}\".format(args) if \".\" not in args else args\n",
    "        all_path.append(result)\n",
    "    elif isinstance(args, tuple):\n",
    "        for i in args:\n",
    "            result = \".{}\".format(i) if \".\" not in i else i\n",
    "            all_path.append(result)\n",
    "    return all_path\n",
    "\n",
    "a = 'txt', 'jpg', 'json', '.png'\n",
    "print(mergeDotAndSuffix(*a))\n",
    "# 上面的样式相当于下面的样子\n",
    "print(mergeDotAndSuffix('txt', 'jpg', 'json', '.png'))  # args 有多个参数的话，相当于1个元组"
   ],
   "metadata": {
    "collapsed": false
   }
  },
  {
   "cell_type": "code",
   "execution_count": 145,
   "outputs": [
    {
     "name": "stdout",
     "output_type": "stream",
     "text": [
      ".txt\n",
      ".jpg\n",
      ".json\n",
      "..png\n"
     ]
    }
   ],
   "source": [
    "def abc(*args):\n",
    "    for i in args:\n",
    "        print(\".\" + i)\n",
    "\n",
    "ty = 'txt', 'jpg', 'json', '.png'\n",
    "\n",
    "abc(*ty)"
   ],
   "metadata": {
    "collapsed": false
   }
  },
  {
   "cell_type": "code",
   "execution_count": null,
   "outputs": [],
   "source": [],
   "metadata": {
    "collapsed": false
   }
  }
 ],
 "metadata": {
  "kernelspec": {
   "display_name": "Python 3",
   "language": "python",
   "name": "python3"
  },
  "language_info": {
   "codemirror_mode": {
    "name": "ipython",
    "version": 2
   },
   "file_extension": ".py",
   "mimetype": "text/x-python",
   "name": "python",
   "nbconvert_exporter": "python",
   "pygments_lexer": "ipython2",
   "version": "2.7.6"
  }
 },
 "nbformat": 4,
 "nbformat_minor": 0
}
